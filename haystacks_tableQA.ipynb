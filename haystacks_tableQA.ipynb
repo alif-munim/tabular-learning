{
 "cells": [
  {
   "cell_type": "code",
   "execution_count": 1,
   "id": "95742a60",
   "metadata": {},
   "outputs": [
    {
     "name": "stdout",
     "output_type": "stream",
     "text": [
      "Thu Jun 30 15:39:44 2022       \n",
      "+-----------------------------------------------------------------------------+\n",
      "| NVIDIA-SMI 470.103.01   Driver Version: 470.103.01   CUDA Version: 11.4     |\n",
      "|-------------------------------+----------------------+----------------------+\n",
      "| GPU  Name        Persistence-M| Bus-Id        Disp.A | Volatile Uncorr. ECC |\n",
      "| Fan  Temp  Perf  Pwr:Usage/Cap|         Memory-Usage | GPU-Util  Compute M. |\n",
      "|                               |                      |               MIG M. |\n",
      "|===============================+======================+======================|\n",
      "|   0  Tesla T4            On   | 00000000:06:00.0 Off |                    0 |\n",
      "| N/A   49C    P0    29W /  70W |   8321MiB / 15109MiB |      0%      Default |\n",
      "|                               |                      |                  N/A |\n",
      "+-------------------------------+----------------------+----------------------+\n",
      "|   1  Tesla T4            On   | 00000000:30:00.0 Off |                    0 |\n",
      "| N/A   35C    P8    10W /  70W |      3MiB / 15109MiB |      0%      Default |\n",
      "|                               |                      |                  N/A |\n",
      "+-------------------------------+----------------------+----------------------+\n",
      "                                                                               \n",
      "+-----------------------------------------------------------------------------+\n",
      "| Processes:                                                                  |\n",
      "|  GPU   GI   CI        PID   Type   Process name                  GPU Memory |\n",
      "|        ID   ID                                                   Usage      |\n",
      "|=============================================================================|\n",
      "|    0   N/A  N/A     10090      C   ...nvs/stable_env/bin/python     5043MiB |\n",
      "|    0   N/A  N/A     20155      C   ...nvs/stable_env/bin/python     3275MiB |\n",
      "+-----------------------------------------------------------------------------+\n"
     ]
    }
   ],
   "source": [
    "# Make sure you have a GPU running\n",
    "!nvidia-smi"
   ]
  },
  {
   "cell_type": "code",
   "execution_count": null,
   "id": "24addc04",
   "metadata": {},
   "outputs": [],
   "source": [
    "# Install the latest release of Haystack in your own environment\n",
    "#! pip install farm-haystack\n",
    "\n",
    "# Install the latest master of Haystack\n",
    "!pip install --upgrade pip\n",
    "!pip install git+https://github.com/deepset-ai/haystack.git#egg=farm-haystack[colab]\n",
    "\n",
    "# The TaPAs-based TableReader requires the torch-scatter library\n",
    "!pip install torch-scatter -f https://data.pyg.org/whl/torch-1.10.0+cu113.html\n",
    "\n",
    "# Install pygraphviz for visualization of Pipelines\n",
    "!apt install libgraphviz-dev\n",
    "!pip install pygraphviz"
   ]
  },
  {
   "cell_type": "code",
   "execution_count": 12,
   "id": "3708fb3c",
   "metadata": {},
   "outputs": [
    {
     "name": "stderr",
     "output_type": "stream",
     "text": [
      "INFO - haystack.modeling.utils -  Using devices: CUDA:0, CUDA:1\n",
      "INFO - haystack.modeling.utils -  Number of GPUs: 2\n"
     ]
    }
   ],
   "source": [
    "from haystack.document_stores import InMemoryDocumentStore\n",
    "from haystack.nodes import TfidfRetriever\n",
    "from haystack.pipelines import ExtractiveQAPipeline\n",
    "\n",
    "document_index = \"document\"\n",
    "document_store = InMemoryDocumentStore()"
   ]
  },
  {
   "cell_type": "code",
   "execution_count": 10,
   "id": "4b1317d7",
   "metadata": {},
   "outputs": [
    {
     "name": "stderr",
     "output_type": "stream",
     "text": [
      "INFO - haystack.utils.import_utils -  Fetching from https://s3.eu-central-1.amazonaws.com/deepset.ai-farm-qa/datasets/documents/table_text_dataset.zip to `data/tutorial15`\n"
     ]
    },
    {
     "data": {
      "text/plain": [
       "True"
      ]
     },
     "execution_count": 10,
     "metadata": {},
     "output_type": "execute_result"
    }
   ],
   "source": [
    "# Let's first fetch some tables that we want to query\n",
    "# Here: 1000 tables from OTT-QA\n",
    "from haystack.utils import fetch_archive_from_http\n",
    "\n",
    "doc_dir = \"data/tutorial15\"\n",
    "s3_url = \"https://s3.eu-central-1.amazonaws.com/deepset.ai-farm-qa/datasets/documents/table_text_dataset.zip\"\n",
    "fetch_archive_from_http(url=s3_url, output_dir=doc_dir)"
   ]
  },
  {
   "cell_type": "code",
   "execution_count": 13,
   "id": "6ed21a53",
   "metadata": {},
   "outputs": [
    {
     "name": "stdout",
     "output_type": "stream",
     "text": [
      "                Opponent    M    W    L  T  NR   Win% First  Last\n",
      "0            Afghanistan    2    2    0  0   0  100.0  2012  2014\n",
      "1              Australia   98   32   62  1   3  34.21  1975  2017\n",
      "2             Bangladesh   35   31    4  0   0  88.57  1986  2015\n",
      "3                 Canada    2    2    0  0   0  100.0  1979  2011\n",
      "4                England   82   31   49  0   2  38.75  1974  2017\n",
      "5              Hong Kong    2    2    0  0   0  100.0  2004  2008\n",
      "6                  India  129   73   52  0   4   58.4  1978  2017\n",
      "7                Ireland    7    5    1  1   0  78.57  2007  2016\n",
      "8                  Kenya    6    6    0  0   0  100.0  1996  2011\n",
      "9                Namibia    1    1    0  0   0  100.0  2003  2003\n",
      "10           Netherlands    3    3    0  0   0  100.0  1996  2003\n",
      "11           New Zealand  103   53   47  1   2  52.97  1973  2018\n",
      "12              Scotland    3    3    0  0   0  100.0  1999  2013\n",
      "13          South Africa   73   25   47  0   1  34.72  1992  2017\n",
      "14             Sri Lanka  153   90   58  1   4  60.73  1975  2017\n",
      "15  United Arab Emirates    3    3    0  0   0  100.0  1994  2015\n",
      "16           West Indies  133   60   70  3   0  46.24  1975  2017\n",
      "17              Zimbabwe   59   52    4  1   2   92.1  1992  2018\n",
      "18             Total[12]  894  474  394  8  18  54.56  1973  2018\n",
      "{}\n"
     ]
    }
   ],
   "source": [
    "# Add the tables to the DocumentStore\n",
    "\n",
    "import json\n",
    "from haystack import Document\n",
    "import pandas as pd\n",
    "\n",
    "\n",
    "def read_tables(filename):\n",
    "    processed_tables = []\n",
    "    with open(filename) as tables:\n",
    "        tables = json.load(tables)\n",
    "        for key, table in tables.items():\n",
    "            current_columns = table[\"header\"]\n",
    "            current_rows = table[\"data\"]\n",
    "            current_df = pd.DataFrame(columns=current_columns, data=current_rows)\n",
    "            document = Document(content=current_df, content_type=\"table\", id=key)\n",
    "            processed_tables.append(document)\n",
    "\n",
    "    return processed_tables\n",
    "\n",
    "\n",
    "tables = read_tables(f\"{doc_dir}/tables.json\")\n",
    "document_store.write_documents(tables, index=document_index)\n",
    "\n",
    "# Showing content field and meta field of one of the Documents of content_type 'table'\n",
    "print(tables[0].content)\n",
    "print(tables[0].meta)"
   ]
  },
  {
   "cell_type": "code",
   "execution_count": 15,
   "id": "7365a21e",
   "metadata": {},
   "outputs": [
    {
     "name": "stderr",
     "output_type": "stream",
     "text": [
      "INFO - haystack.modeling.utils -  Using devices: CUDA:0, CUDA:1\n",
      "INFO - haystack.modeling.utils -  Number of GPUs: 2\n",
      "INFO - haystack.nodes.retriever.dense -  Init retriever using embeddings of model sentence-transformers/multi-qa-mpnet-base-dot-v1\n",
      "WARNING - haystack.nodes.retriever._embedding_encoder -  You are using a Sentence Transformer with the dot_product function. We recommend using cosine instead. This can be set when initializing the DocumentStore\n"
     ]
    }
   ],
   "source": [
    "from haystack.nodes.retriever import EmbeddingRetriever\n",
    "\n",
    "retriever = EmbeddingRetriever(\n",
    "    document_store=document_store,\n",
    "   embedding_model=\"sentence-transformers/multi-qa-mpnet-base-dot-v1\",\n",
    "   model_format=\"sentence_transformers\"\n",
    ")"
   ]
  },
  {
   "cell_type": "code",
   "execution_count": 16,
   "id": "69ba59d7",
   "metadata": {},
   "outputs": [
    {
     "name": "stderr",
     "output_type": "stream",
     "text": [
      "INFO - haystack.document_stores.memory -  Updating embeddings for 437 docs ...\n",
      "Updating Embedding:   0%|          | 0/437 [00:00<?, ? docs/s]"
     ]
    },
    {
     "data": {
      "application/vnd.jupyter.widget-view+json": {
       "model_id": "422f176f76f84091aa65170a0915c1bf",
       "version_major": 2,
       "version_minor": 0
      },
      "text/plain": [
       "Batches:   0%|          | 0/14 [00:00<?, ?it/s]"
      ]
     },
     "metadata": {},
     "output_type": "display_data"
    },
    {
     "name": "stderr",
     "output_type": "stream",
     "text": [
      "Documents Processed: 10000 docs [00:45, 218.19 docs/s]         \n"
     ]
    }
   ],
   "source": [
    "# Add table embeddings to the tables in DocumentStore\n",
    "document_store.update_embeddings(retriever=retriever)"
   ]
  },
  {
   "cell_type": "code",
   "execution_count": 17,
   "id": "f84f9489",
   "metadata": {},
   "outputs": [
    {
     "data": {
      "application/vnd.jupyter.widget-view+json": {
       "model_id": "83e3d027bed44b289edb9f387b5f0cbc",
       "version_major": 2,
       "version_minor": 0
      },
      "text/plain": [
       "Batches:   0%|          | 0/1 [00:00<?, ?it/s]"
      ]
     },
     "metadata": {},
     "output_type": "display_data"
    },
    {
     "name": "stdout",
     "output_type": "stream",
     "text": [
      "                     Year                   Coach              Super Bowl  \\\n",
      "0                    1966          Vince Lombardi                       I   \n",
      "1                    1967          Vince Lombardi                      II   \n",
      "2                    1996           Mike Holmgren                    XXXI   \n",
      "3                    2010           Mike McCarthy                     XLV   \n",
      "4  Total Super Bowls won:  Total Super Bowls won:  Total Super Bowls won:   \n",
      "\n",
      "                  Location                Opponent  Score Record  \n",
      "0  Los Angeles, California      Kansas City Chiefs  35–10   12–2  \n",
      "1           Miami, Florida         Oakland Raiders  33–14  9–4–1  \n",
      "2   New Orleans, Louisiana    New England Patriots  35–21   13–3  \n",
      "3         Arlington, Texas     Pittsburgh Steelers  31–25   10–6  \n",
      "4   Total Super Bowls won:  Total Super Bowls won:      4      4  \n"
     ]
    }
   ],
   "source": [
    "# Try the Retriever\n",
    "from haystack.utils import print_documents\n",
    "\n",
    "retrieved_tables = retriever.retrieve(\"Who won the Super Bowl?\", top_k=5)\n",
    "# Get highest scored table\n",
    "print(retrieved_tables[0].content)"
   ]
  },
  {
   "cell_type": "code",
   "execution_count": null,
   "id": "fd2c7737",
   "metadata": {},
   "outputs": [],
   "source": []
  }
 ],
 "metadata": {
  "kernelspec": {
   "display_name": "Python 3 (ipykernel)",
   "language": "python",
   "name": "python3"
  },
  "language_info": {
   "codemirror_mode": {
    "name": "ipython",
    "version": 3
   },
   "file_extension": ".py",
   "mimetype": "text/x-python",
   "name": "python",
   "nbconvert_exporter": "python",
   "pygments_lexer": "ipython3",
   "version": "3.8.0"
  }
 },
 "nbformat": 4,
 "nbformat_minor": 5
}
